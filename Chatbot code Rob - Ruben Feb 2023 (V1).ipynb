{
 "cells": [
  {
   "cell_type": "code",
   "execution_count": 7,
   "metadata": {},
   "outputs": [
    {
     "name": "stdout",
     "output_type": "stream",
     "text": [
      "Defaulting to user installation because normal site-packages is not writeable\n",
      "Requirement already satisfied: nltk in /home/lcur0984/.local/lib/python3.9/site-packages (3.7)\n",
      "Requirement already satisfied: tensorflow in /sara/eb/AVX512/Debian10/EB_production/2021/software/TensorFlow/2.6.0-foss-2021a-CUDA-11.3.1/lib/python3.9/site-packages (2.6.0)\n",
      "Requirement already satisfied: tflearn in /home/lcur0984/.local/lib/python3.9/site-packages (0.5.0)\n",
      "Requirement already satisfied: regex>=2021.8.3 in /home/lcur0984/.local/lib/python3.9/site-packages (from nltk) (2022.10.31)\n",
      "Requirement already satisfied: click in /sara/eb/AVX512/Debian10/EB_production/2021/software/Python/3.9.5-GCCcore-10.3.0/lib/python3.9/site-packages (from nltk) (7.1.2)\n",
      "Requirement already satisfied: joblib in /sara/eb/AVX512/Debian10/EB_production/2021/software/Python/3.9.5-GCCcore-10.3.0/lib/python3.9/site-packages (from nltk) (1.0.1)\n",
      "Requirement already satisfied: tqdm in /home/lcur0984/.local/lib/python3.9/site-packages (from nltk) (4.64.1)\n",
      "Requirement already satisfied: keras~=2.6 in /sara/eb/AVX512/Debian10/EB_production/2021/software/TensorFlow/2.6.0-foss-2021a-CUDA-11.3.1/lib/python3.9/site-packages (from tensorflow) (2.6.0)\n",
      "Requirement already satisfied: flatbuffers>=1.12.0 in /sara/eb/AVX512/Debian10/EB_production/2021/software/flatbuffers-python/2.0-GCCcore-10.3.0/lib/python3.9/site-packages (from tensorflow) (2.0)\n",
      "Requirement already satisfied: numpy>=1.19.2 in /sara/eb/AVX512/Debian10/EB_production/2021/software/SciPy-bundle/2021.05-foss-2021a/lib/python3.9/site-packages (from tensorflow) (1.20.3)\n",
      "Requirement already satisfied: google-pasta~=0.2 in /sara/eb/AVX512/Debian10/EB_production/2021/software/TensorFlow/2.6.0-foss-2021a-CUDA-11.3.1/lib/python3.9/site-packages (from tensorflow) (0.2.0)\n",
      "Requirement already satisfied: wrapt~=1.12.1 in /sara/eb/AVX512/Debian10/EB_production/2021/software/TensorFlow/2.6.0-foss-2021a-CUDA-11.3.1/lib/python3.9/site-packages (from tensorflow) (1.12.1)\n",
      "Requirement already satisfied: clang~=5.0 in /sara/eb/AVX512/Debian10/EB_production/2021/software/TensorFlow/2.6.0-foss-2021a-CUDA-11.3.1/lib/python3.9/site-packages (from tensorflow) (5.0)\n",
      "Requirement already satisfied: tensorboard~=2.6 in /sara/eb/AVX512/Debian10/EB_production/2021/software/TensorFlow/2.6.0-foss-2021a-CUDA-11.3.1/lib/python3.9/site-packages (from tensorflow) (2.6.0)\n",
      "Requirement already satisfied: protobuf>=3.9.2 in /sara/eb/AVX512/Debian10/EB_production/2021/software/protobuf-python/3.17.3-GCCcore-10.3.0/lib/python3.9/site-packages (from tensorflow) (3.17.3)\n",
      "Requirement already satisfied: gast==0.4.0 in /sara/eb/AVX512/Debian10/EB_production/2021/software/TensorFlow/2.6.0-foss-2021a-CUDA-11.3.1/lib/python3.9/site-packages (from tensorflow) (0.4.0)\n",
      "Requirement already satisfied: astunparse~=1.6.3 in /sara/eb/AVX512/Debian10/EB_production/2021/software/TensorFlow/2.6.0-foss-2021a-CUDA-11.3.1/lib/python3.9/site-packages (from tensorflow) (1.6.3)\n",
      "Requirement already satisfied: grpcio<2.0,>=1.37.0 in /sara/eb/AVX512/Debian10/EB_production/2021/software/TensorFlow/2.6.0-foss-2021a-CUDA-11.3.1/lib/python3.9/site-packages (from tensorflow) (1.39.0)\n",
      "Requirement already satisfied: wheel~=0.35 in /sara/eb/AVX512/Debian10/EB_production/2021/software/Python/3.9.5-GCCcore-10.3.0/lib/python3.9/site-packages (from tensorflow) (0.36.2)\n",
      "Requirement already satisfied: h5py~=3.1 in /sara/eb/AVX512/Debian10/EB_production/2021/software/h5py/3.2.1-foss-2021a/lib/python3.9/site-packages (from tensorflow) (3.2.1)\n",
      "Requirement already satisfied: six>=1.15.0 in /sara/eb/AVX512/Debian10/EB_production/2021/software/Python/3.9.5-GCCcore-10.3.0/lib/python3.9/site-packages (from tensorflow) (1.16.0)\n",
      "Requirement already satisfied: keras-preprocessing~=1.1.2 in /sara/eb/AVX512/Debian10/EB_production/2021/software/TensorFlow/2.6.0-foss-2021a-CUDA-11.3.1/lib/python3.9/site-packages (from tensorflow) (1.1.2)\n",
      "Requirement already satisfied: absl-py~=0.10 in /sara/eb/AVX512/Debian10/EB_production/2021/software/TensorFlow/2.6.0-foss-2021a-CUDA-11.3.1/lib/python3.9/site-packages (from tensorflow) (0.13.0)\n",
      "Requirement already satisfied: opt-einsum~=3.3.0 in /sara/eb/AVX512/Debian10/EB_production/2021/software/TensorFlow/2.6.0-foss-2021a-CUDA-11.3.1/lib/python3.9/site-packages (from tensorflow) (3.3.0)\n",
      "Requirement already satisfied: typing-extensions>=3.7.4 in /sara/eb/AVX512/Debian10/EB_production/2021/software/typing-extensions/3.10.0.0-GCCcore-10.3.0/lib/python3.9/site-packages (from tensorflow) (3.10.0.0)\n",
      "Requirement already satisfied: termcolor~=1.1.0 in /sara/eb/AVX512/Debian10/EB_production/2021/software/TensorFlow/2.6.0-foss-2021a-CUDA-11.3.1/lib/python3.9/site-packages (from tensorflow) (1.1.0)\n",
      "Requirement already satisfied: tensorflow-estimator~=2.6 in /sara/eb/AVX512/Debian10/EB_production/2021/software/TensorFlow/2.6.0-foss-2021a-CUDA-11.3.1/lib/python3.9/site-packages (from tensorflow) (2.6.0)\n",
      "Requirement already satisfied: mpi4py>=3.0.0 in /sara/eb/AVX512/Debian10/EB_production/2021/software/SciPy-bundle/2021.05-foss-2021a/lib/python3.9/site-packages (from h5py~=3.1->tensorflow) (3.0.3)\n",
      "Requirement already satisfied: setuptools>=41.0.0 in /sara/eb/AVX512/Debian10/EB_production/2021/software/Python/3.9.5-GCCcore-10.3.0/lib/python3.9/site-packages (from tensorboard~=2.6->tensorflow) (56.2.0)\n",
      "Requirement already satisfied: tensorboard-data-server<0.7.0,>=0.6.0 in /sara/eb/AVX512/Debian10/EB_production/2021/software/TensorFlow/2.6.0-foss-2021a-CUDA-11.3.1/lib/python3.9/site-packages (from tensorboard~=2.6->tensorflow) (0.6.1)\n",
      "Requirement already satisfied: werkzeug>=0.11.15 in /sara/eb/AVX512/Debian10/EB_production/2021/software/TensorFlow/2.6.0-foss-2021a-CUDA-11.3.1/lib/python3.9/site-packages (from tensorboard~=2.6->tensorflow) (2.0.1)\n",
      "Requirement already satisfied: tensorboard-plugin-wit>=1.6.0 in /sara/eb/AVX512/Debian10/EB_production/2021/software/TensorFlow/2.6.0-foss-2021a-CUDA-11.3.1/lib/python3.9/site-packages (from tensorboard~=2.6->tensorflow) (1.8.0)\n",
      "Requirement already satisfied: google-auth<2,>=1.6.3 in /sara/eb/AVX512/Debian10/EB_production/2021/software/TensorFlow/2.6.0-foss-2021a-CUDA-11.3.1/lib/python3.9/site-packages (from tensorboard~=2.6->tensorflow) (1.35.0)\n",
      "Requirement already satisfied: requests<3,>=2.21.0 in /sara/eb/AVX512/Debian10/EB_production/2021/software/Python/3.9.5-GCCcore-10.3.0/lib/python3.9/site-packages (from tensorboard~=2.6->tensorflow) (2.25.1)\n",
      "Requirement already satisfied: markdown>=2.6.8 in /sara/eb/AVX512/Debian10/EB_production/2021/software/TensorFlow/2.6.0-foss-2021a-CUDA-11.3.1/lib/python3.9/site-packages (from tensorboard~=2.6->tensorflow) (3.3.4)\n",
      "Requirement already satisfied: google-auth-oauthlib<0.5,>=0.4.1 in /sara/eb/AVX512/Debian10/EB_production/2021/software/TensorFlow/2.6.0-foss-2021a-CUDA-11.3.1/lib/python3.9/site-packages (from tensorboard~=2.6->tensorflow) (0.4.5)\n",
      "Requirement already satisfied: cachetools<5.0,>=2.0.0 in /sara/eb/AVX512/Debian10/EB_production/2021/software/TensorFlow/2.6.0-foss-2021a-CUDA-11.3.1/lib/python3.9/site-packages (from google-auth<2,>=1.6.3->tensorboard~=2.6->tensorflow) (4.2.2)\n",
      "Requirement already satisfied: pyasn1-modules>=0.2.1 in /sara/eb/AVX512/Debian10/EB_production/2021/software/TensorFlow/2.6.0-foss-2021a-CUDA-11.3.1/lib/python3.9/site-packages (from google-auth<2,>=1.6.3->tensorboard~=2.6->tensorflow) (0.2.8)\n",
      "Requirement already satisfied: rsa<5,>=3.1.4 in /sara/eb/AVX512/Debian10/EB_production/2021/software/TensorFlow/2.6.0-foss-2021a-CUDA-11.3.1/lib/python3.9/site-packages (from google-auth<2,>=1.6.3->tensorboard~=2.6->tensorflow) (4.7.2)\n",
      "Requirement already satisfied: requests-oauthlib>=0.7.0 in /sara/eb/AVX512/Debian10/EB_production/2021/software/TensorFlow/2.6.0-foss-2021a-CUDA-11.3.1/lib/python3.9/site-packages (from google-auth-oauthlib<0.5,>=0.4.1->tensorboard~=2.6->tensorflow) (1.3.0)\n",
      "Requirement already satisfied: pyasn1<0.5.0,>=0.4.6 in /sara/eb/AVX512/Debian10/EB_production/2021/software/Python/3.9.5-GCCcore-10.3.0/lib/python3.9/site-packages (from pyasn1-modules>=0.2.1->google-auth<2,>=1.6.3->tensorboard~=2.6->tensorflow) (0.4.8)\n",
      "Requirement already satisfied: chardet<5,>=3.0.2 in /sara/eb/AVX512/Debian10/EB_production/2021/software/Python/3.9.5-GCCcore-10.3.0/lib/python3.9/site-packages (from requests<3,>=2.21.0->tensorboard~=2.6->tensorflow) (4.0.0)\n",
      "Requirement already satisfied: certifi>=2017.4.17 in /sara/eb/AVX512/Debian10/EB_production/2021/software/Python/3.9.5-GCCcore-10.3.0/lib/python3.9/site-packages (from requests<3,>=2.21.0->tensorboard~=2.6->tensorflow) (2020.12.5)\n",
      "Requirement already satisfied: urllib3<1.27,>=1.21.1 in /sara/eb/AVX512/Debian10/EB_production/2021/software/Python/3.9.5-GCCcore-10.3.0/lib/python3.9/site-packages (from requests<3,>=2.21.0->tensorboard~=2.6->tensorflow) (1.26.4)\n",
      "Requirement already satisfied: idna<3,>=2.5 in /sara/eb/AVX512/Debian10/EB_production/2021/software/Python/3.9.5-GCCcore-10.3.0/lib/python3.9/site-packages (from requests<3,>=2.21.0->tensorboard~=2.6->tensorflow) (2.10)\n",
      "Requirement already satisfied: oauthlib>=3.0.0 in /sara/eb/AVX512/Debian10/EB_production/2021/software/TensorFlow/2.6.0-foss-2021a-CUDA-11.3.1/lib/python3.9/site-packages (from requests-oauthlib>=0.7.0->google-auth-oauthlib<0.5,>=0.4.1->tensorboard~=2.6->tensorflow) (3.1.1)\n"
     ]
    },
    {
     "name": "stdout",
     "output_type": "stream",
     "text": [
      "Requirement already satisfied: Pillow in /sara/eb/AVX512/Debian10/EB_production/2021/software/Pillow-SIMD/8.2.0-GCCcore-10.3.0/lib/python3.9/site-packages (from tflearn) (8.2.0)\n",
      "\u001b[33mWARNING: You are using pip version 21.1.1; however, version 22.3.1 is available.\n",
      "You should consider upgrading via the '/sw/arch/Debian10/EB_production/2021/software/Python/3.9.5-GCCcore-10.3.0/bin/python3.9 -m pip install --upgrade pip' command.\u001b[0m\n"
     ]
    }
   ],
   "source": [
    "# Install a pip package in the current Jupyter kernel\n",
    "import sys\n",
    "!{sys.executable} -m pip install nltk tensorflow tflearn\n"
   ]
  },
  {
   "cell_type": "code",
   "execution_count": 8,
   "metadata": {},
   "outputs": [
    {
     "name": "stderr",
     "output_type": "stream",
     "text": [
      "[nltk_data] Downloading package punkt to /home/lcur0984/nltk_data...\n",
      "[nltk_data]   Package punkt is already up-to-date!\n"
     ]
    },
    {
     "data": {
      "text/plain": [
       "True"
      ]
     },
     "execution_count": 8,
     "metadata": {},
     "output_type": "execute_result"
    }
   ],
   "source": [
    "import nltk\n",
    "nltk.download('punkt')"
   ]
  },
  {
   "cell_type": "code",
   "execution_count": 10,
   "metadata": {},
   "outputs": [
    {
     "name": "stdout",
     "output_type": "stream",
     "text": [
      "Writing 'intents_json' (str) to file 'intents.json'.\n"
     ]
    }
   ],
   "source": [
    "intents_json = \"\"\"\n",
    " {\"intents\": [\n",
    "        {\"tag\": \"greeting\",\n",
    "         \"patterns\": [\"Hi there\", \"How are you\", \"Is anyone there?\",\"Hey\",\"Hola\", \"Hello\", \"Good day\"],\n",
    "         \"responses\": [\"Hi, I'm Brit. I'm not real, but I do have real experiences of living with a sibling with disabilities. how are you?\"],\n",
    "         \"context\": [\"\"]\n",
    "        },\n",
    "        {\"tag\": \"goodbye\",\n",
    "         \"patterns\": [\"Bye\", \"See you later\", \"Goodbye\", \"Nice chatting to you, bye\", \"Till next time\"],\n",
    "         \"responses\": [\"Am glad I spoke to you. Until the next one\"],\n",
    "         \"context\": [\"\"]\n",
    "        },\n",
    "        {\"tag\": \"thanks\",\n",
    "         \"patterns\": [\"Thanks\", \"Thank you\", \"That's helpful\", \"Awesome, thanks\", \"Thanks for helping me\"],\n",
    "         \"responses\": [\"Geen Probleem\"],\n",
    "         \"context\": [\"\"]\n",
    "        },\n",
    "        {\"tag\": \"query1\",\n",
    "         \"patterns\": [\"What is big bang?\"],\n",
    "         \"responses\": [\"The Big Bang theory is the prevailing cosmological model explaining the existence of the observable universe from the earliest known periods through its subsequent large-scale evolution.\"],\n",
    "         \"context\": [\"\"]\n",
    "        },\n",
    "        {\"tag\": \"query\",\n",
    "         \"patterns\": [\"Im depressed\"],\n",
    "         \"responses\": [\"Great!\"],\n",
    "         \"context\": [\"\"]\n",
    "        } \n",
    "    ]\n",
    " }\n",
    " \"\"\"\n",
    "\n",
    "%store intents_json >intents.json"
   ]
  },
  {
   "cell_type": "code",
   "execution_count": 11,
   "metadata": {},
   "outputs": [],
   "source": [
    "import nltk\n",
    "from nltk.stem.lancaster import LancasterStemmer\n",
    "import numpy as np\n",
    "import tflearn\n",
    "import tensorflow as tf\n",
    "import json\n",
    "import pickle\n",
    "import random"
   ]
  },
  {
   "cell_type": "code",
   "execution_count": 12,
   "metadata": {},
   "outputs": [],
   "source": [
    "#Loading intents.json\n",
    "with open('intents.json') as intents:\n",
    "  data = json.load(intents)\n",
    "\n",
    "stemmer = LancasterStemmer()\n",
    "\n",
    "# getting informations from intents.json--\n",
    "words = []\n",
    "labels = []\n",
    "x_docs = []\n",
    "y_docs = []\n",
    "\n",
    "for intent in data['intents']:\n",
    "    for pattern in intent['patterns']:\n",
    "        wrds = nltk.word_tokenize(pattern)\n",
    "        words.extend(wrds)\n",
    "        x_docs.append(wrds)\n",
    "        y_docs.append(intent['tag'])\n",
    "\n",
    "        if intent['tag'] not in labels:\n",
    "            labels.append(intent['tag'])"
   ]
  },
  {
   "cell_type": "code",
   "execution_count": 13,
   "metadata": {},
   "outputs": [],
   "source": [
    "# Stemming the words and removing duplicate elements.\n",
    "words = [stemmer.stem(w.lower()) for w in words if w not in \"?\"]\n",
    "words = sorted(list(set(words)))\n",
    "labels = sorted(labels)"
   ]
  },
  {
   "cell_type": "code",
   "execution_count": 14,
   "metadata": {},
   "outputs": [],
   "source": [
    "training = []\n",
    "output = []\n",
    "out_empty = [0 for _ in range(len(labels))]\n",
    "\n",
    "# One hot encoding, Converting the words to numerals\n",
    "for x, doc in enumerate(x_docs):\n",
    "    bag = []\n",
    "    wrds = [stemmer.stem(w) for w in doc]\n",
    "    for w in words:\n",
    "        if w in wrds:\n",
    "            bag.append(1)\n",
    "        else:\n",
    "            bag.append(0)\n",
    "\n",
    "\n",
    "    output_row = out_empty[:]\n",
    "    output_row[labels.index(y_docs[x])] = 1\n",
    "\n",
    "    training.append(bag)\n",
    "    output.append(output_row)\n",
    "\n",
    "\n",
    "training = np.array(training)\n",
    "output = np.array(output)"
   ]
  },
  {
   "cell_type": "code",
   "execution_count": 15,
   "metadata": {},
   "outputs": [
    {
     "name": "stdout",
     "output_type": "stream",
     "text": [
      "Training Step: 1499  | total loss: \u001b[1m\u001b[32m0.00884\u001b[0m\u001b[0m | time: 0.005s\n",
      "| Adam | epoch: 500 | loss: 0.00884 - acc: 1.0000 -- iter: 16/19\n",
      "Training Step: 1500  | total loss: \u001b[1m\u001b[32m0.00866\u001b[0m\u001b[0m | time: 0.006s\n",
      "| Adam | epoch: 500 | loss: 0.00866 - acc: 1.0000 -- iter: 19/19\n",
      "--\n",
      "INFO:tensorflow:/home/lcur0984/JHL_notebooks/Chatbot Ruben feb 2023/Untitled Folder/model.tflearn is not in all_model_checkpoint_paths. Manually adding it.\n"
     ]
    }
   ],
   "source": [
    "net = tflearn.input_data(shape=[None, len(training[0])])\n",
    "net = tflearn.fully_connected(net, 10)\n",
    "net = tflearn.fully_connected(net, 10)\n",
    "net = tflearn.fully_connected(net, 10)\n",
    "net = tflearn.fully_connected(net, len(output[0]), activation='softmax')\n",
    "net = tflearn.regression(net)\n",
    "\n",
    "model = tflearn.DNN(net)\n",
    "model.fit(training, output, n_epoch=500, batch_size=8, show_metric=True)\n",
    "model.save('model.tflearn')"
   ]
  },
  {
   "cell_type": "code",
   "execution_count": 16,
   "metadata": {},
   "outputs": [],
   "source": [
    "def bag_of_words(s, words):\n",
    "    bag = [0 for _ in range(len(words))]\n",
    "    s_words = nltk.word_tokenize(s)\n",
    "    s_words = [stemmer.stem(word.lower()) for word in s_words]\n",
    "\n",
    "    for s_word in s_words:\n",
    "        for i, w in enumerate(words):\n",
    "            if w == s_word:\n",
    "                bag[i] = 1\n",
    "\n",
    "    return np.array(bag)"
   ]
  },
  {
   "cell_type": "code",
   "execution_count": 17,
   "metadata": {},
   "outputs": [],
   "source": [
    "def chat():\n",
    "\n",
    "    while True:\n",
    "        inp = input(\"\\n\\nYou: \")\n",
    "        if inp.lower() == 'quit':\n",
    "            break\n",
    "\n",
    "    #Porbability of correct response \n",
    "        results = model.predict([bag_of_words(inp, words)])\n",
    "\n",
    "    # Picking the greatest number from probability\n",
    "        results_index = np.argmax(results)\n",
    "\n",
    "        tag = labels[results_index]\n",
    "\n",
    "        for tg in data['intents']:\n",
    "\n",
    "            if tg['tag'] == tag:\n",
    "                responses = tg['responses']\n",
    "                print(\"Bot:\\t\" + random.choice(responses))"
   ]
  },
  {
   "cell_type": "code",
   "execution_count": null,
   "metadata": {},
   "outputs": [
    {
     "name": "stdout",
     "output_type": "stream",
     "text": [
      "\n",
      "\n",
      "You: hello\n",
      "Bot:\tHi, I'm Brit. I'm not real, but I do have real experiences of living with a sibling with disabilities. how are you?\n"
     ]
    }
   ],
   "source": [
    "#TYPE quit TO STOP the conversation\n",
    "chat()"
   ]
  },
  {
   "cell_type": "code",
   "execution_count": null,
   "metadata": {},
   "outputs": [],
   "source": [
    "chat()"
   ]
  },
  {
   "cell_type": "code",
   "execution_count": null,
   "metadata": {},
   "outputs": [],
   "source": []
  }
 ],
 "metadata": {
  "kernelspec": {
   "display_name": "Python 3 (ipykernel)",
   "language": "python",
   "name": "python3"
  },
  "language_info": {
   "codemirror_mode": {
    "name": "ipython",
    "version": 3
   },
   "file_extension": ".py",
   "mimetype": "text/x-python",
   "name": "python",
   "nbconvert_exporter": "python",
   "pygments_lexer": "ipython3",
   "version": "3.9.5"
  },
  "vscode": {
   "interpreter": {
    "hash": "7ca506a1a95b190e82f6eb9c710cb0d87ff49ca1c6d4407419ca06498133b17e"
   }
  }
 },
 "nbformat": 4,
 "nbformat_minor": 2
}
